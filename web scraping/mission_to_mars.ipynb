{
 "cells": [
  {
   "cell_type": "code",
   "execution_count": 1,
   "metadata": {},
   "outputs": [],
   "source": [
    "import pandas as pd\n",
    "import requests\n",
    "import os\n",
    "from bs4 import BeautifulSoup\n",
    "from splinter import Browser"
   ]
  },
  {
   "cell_type": "code",
   "execution_count": 2,
   "metadata": {},
   "outputs": [],
   "source": [
    "executable_path = {'executable_path': 'chromedriver.exe'}\n",
    "browser = Browser('chrome', **executable_path, headless=False)"
   ]
  },
  {
   "cell_type": "code",
   "execution_count": 3,
   "metadata": {},
   "outputs": [],
   "source": [
    "url = 'https://mars.nasa.gov/news/'\n",
    "browser.visit(url)\n",
    "html = browser.html\n",
    "\n",
    "# Retrieve page with the requests module\n",
    "# response = requests.get(url)\n",
    "\n",
    "# Create BeautifulSoup object; parse with 'lxml'\n",
    "soup = BeautifulSoup(html, 'html.parser')\n"
   ]
  },
  {
   "cell_type": "code",
   "execution_count": 4,
   "metadata": {},
   "outputs": [],
   "source": [
    "news_title = soup.find_all('li', class_='slide')"
   ]
  },
  {
   "cell_type": "code",
   "execution_count": 5,
   "metadata": {},
   "outputs": [
    {
     "name": "stdout",
     "output_type": "stream",
     "text": [
      "-----------------\n",
      "What's Mars Solar Conjunction, and Why Does It Matter?\n",
      "NASA spacecraft at Mars are going to be on their own for a few weeks when the Sun comes between Mars and Earth, interrupting communications.\n",
      "Scraping Complete\n",
      "-----------------\n",
      "Scientists Explore Outback as Testbed for Mars \n",
      "Australia provides a great place for NASA's Mars 2020 and the ESA-Roscosmos ExoMars scientists to hone techniques in preparation for searching for signs ancient life on Mars.\n",
      "Scraping Complete\n",
      "-----------------\n",
      "NASA-JPL Names 'Rolling Stones Rock' on Mars\n",
      "NASA's Mars InSight mission honored one of the biggest bands of all time at Pasadena concert.\n",
      "Scraping Complete\n",
      "-----------------\n",
      "Robotic Toolkit Added to NASA's Mars 2020 Rover\n",
      "The bit carousel, which lies at the heart of the rover's Sample Caching System, is now aboard NASA's newest rover. \n",
      "Scraping Complete\n",
      "-----------------\n",
      "Space Samples Link NASA's Apollo 11 and Mars 2020\n",
      "While separated by half a century, NASA's Apollo 11 and Mars 2020 missions share the same historic goal: returning samples to Earth.\n",
      "Scraping Complete\n",
      "-----------------\n",
      "Small Satellite Mission of the Year\n",
      "The first interplanetary CubeSats were recognized by the engineering community with the 2019 Small Satellite Mission of the Year award.\n",
      "Scraping Complete\n",
      "-----------------\n",
      "NASA 'Optometrists' Verify Mars 2020 Rover's 20/20 Vision\n",
      "Mars 2020 rover underwent an eye exam after several cameras were installed on the rover.\n",
      "Scraping Complete\n",
      "-----------------\n",
      "New Finds for Mars Rover, Seven Years After Landing\n",
      "NASA's Curiosity rover is discovering odd rocks halfway into a region called the \"clay-bearing unit.\"\n",
      "Scraping Complete\n",
      "-----------------\n",
      "MEDLI2 Installation on Mars 2020 Aeroshell Begins\n",
      "Hardware installed onto NASA's Mars 2020 entry vehicle this week will help to increase the safety of future Mars landings.\n",
      "Scraping Complete\n",
      "-----------------\n",
      "NASA's Mars 2020 Rover Does Biceps Curls \n",
      "In this time-lapse video, the robotic arm on NASA's Mars 2020 rover maneuvers its 88-pound (40-kilogram) sensor-laden turret as it moves from a deployed to stowed configuration.\n",
      "Scraping Complete\n",
      "-----------------\n",
      "Fueling of NASA's Mars 2020 Rover Power System Begins\n",
      "NASA gives the go-ahead to fuel the Mars 2020 rover's Multi-Mission Radioisotope Thermoelectric Generator, which will power rover and help keep it warm while exploring Mars.\n",
      "Scraping Complete\n",
      "-----------------\n",
      "What Does a Marsquake Look Like?\n",
      "InSight scientists used a special \"shake room\" to demonstrate the differences between quakes on Earth, the Moon and Mars.\n",
      "Scraping Complete\n",
      "-----------------\n",
      "Mars 2020 Rover: T-Minus One Year and Counting \n",
      "The launch period for NASA's next rover, Mars 2020, opens exactly one year from today, July 17, 2020, and extends through Aug. 5, 2020.\n",
      "Scraping Complete\n",
      "-----------------\n",
      "NASA Racks Up Two Emmy Nominations for Mission Coverage\n",
      "JPL's coverage of the Mars InSight mission is among the efforts that will be up for an award in mid-September.\n",
      "Scraping Complete\n",
      "-----------------\n",
      "Want to Colonize Mars? Aerogel Could Help\n",
      "Researchers are studying whether a wonder material used in Mars rovers could help warm parts of the Red Planet rich in water ice.\n",
      "Scraping Complete\n",
      "-----------------\n",
      "A Rover Pit Stop at JPL\n",
      "Working like a finely honed machine, a team of engineers in this time-lapse video clip install test wheels on another finely honed machine: NASA's Mars 2020 rover.\n",
      "Scraping Complete\n",
      "-----------------\n",
      "Mars 2020 Rover Gets a Super Instrument\n",
      "With its rock-zapping laser, the SuperCam will enable the science team to identify the chemical and mineral makeup of its targets on the Red Planet.\n",
      "Scraping Complete\n",
      "-----------------\n",
      "A Neil Armstrong for Mars: Landing the Mars 2020 Rover\n",
      "NASA's newest rover will have an autopilot called Terrain-Relative Navigation.\n",
      "Scraping Complete\n",
      "-----------------\n",
      "NASA's InSight Uncovers the 'Mole' \n",
      "The lander's robotic arm has successfully removed a piece of hardware blocking the view of its digging device in order to help with recovery efforts.\n",
      "Scraping Complete\n",
      "-----------------\n",
      "Mars 2020 Rover's 7-Foot-Long Robotic Arm Installed\n",
      "The main robotic arm has been installed on NASA's newest rover. When complete, the arm will enable the rover to hold and use science tools like a human geologist would.\n",
      "Scraping Complete\n",
      "-----------------\n",
      "NASA Selects Partners for Mars 2020 'Name the Rover' Contest, Seeks Judges\n",
      "The contest for U.S. schoolchildren will open in fall 2019, but judges can sign up now.\n",
      "Scraping Complete\n",
      "-----------------\n",
      "Curiosity's Mars Methane Mystery Continues\n",
      "The Curiosity rover’s follow-on sampling shows last week’s methane levels have sharply decreased.\n",
      "Scraping Complete\n",
      "-----------------\n",
      "Mars 2020 Rover Gets Its Wheels\n",
      "With the mobility suspension in place, the rover not only looks more like a rover but has many of its 'big-ticket items' installed.\n",
      "Scraping Complete\n",
      "-----------------\n",
      "The Mast Is Raised for NASA's Mars 2020 Rover\n",
      "Engineers at JPL take a group selfie after attaching the remote sensing mast to the Mars 2020 rover.\n",
      "Scraping Complete\n",
      "-----------------\n",
      "NASA's Mars 2020 Will Blaze a Trail — for Humans\n",
      "The next robotic Mars mission will carry technology that will help enable astronauts to eventually explore the Red Planet.\n",
      "Scraping Complete\n",
      "-----------------\n",
      "Johnson-Built Device to Help Mars 2020 Rover Search for Signs of Life\n",
      "NASA’s Johnson Space Center (JSC) recently built a new calibration device for the rover to check SHERLOC’s function and properly tune it during the upcoming mission.\n",
      "Scraping Complete\n",
      "-----------------\n",
      "Watch NASA Build Its Next Mars Rover\n",
      "A newly installed webcam offers the public a live, bird's-eye view of NASA's Mars 2020 rover as it takes shape at NASA's Jet Propulsion Laboratory. \n",
      "Scraping Complete\n",
      "-----------------\n",
      "NASA's Mars Helicopter Testing Enters Final Phase\n",
      "NASA's Mars Helicopter flight demonstration project has passed a number of key tests with flying colors.\n",
      "Scraping Complete\n",
      "-----------------\n",
      "InSight's Team Tries New Strategy to Help the 'Mole'\n",
      "The spacecraft's robotic arm will lift the heat probe's support structure, providing a better look at the instrument that has been trying to burrow into the Martian surface.\n",
      "Scraping Complete\n",
      "-----------------\n",
      "Common Questions about InSight's 'Mole'\n",
      "There's a new plan to get InSight's \"mole\" moving again. The following Q&As with two members of the team answer some of the most common questions about the burrowing device, part of a science instrument called the Heat Flow and Physical Properties Package (HP3).\n",
      "Scraping Complete\n",
      "-----------------\n",
      "NASA's Curiosity Mars Rover Finds a Clay Cache\n",
      "The rover recently drilled two samples, and both showed the highest levels of clay ever found during the mission.\n",
      "Scraping Complete\n",
      "-----------------\n",
      "NASA to Land in Mars, Pennsylvania to Celebrate Red Planet with STEAM\n",
      "NASA returns to Mars, Pennsylvania Friday, May 31 to celebrate Mars exploration and share the agency’s excitement about landing astronauts on the Moon in five years.\n",
      "Scraping Complete\n",
      "-----------------\n",
      "NASA's Mars 2020 Gets a Dose of Space Here on Earth\n",
      "NASA's Mars 2020 spacecraft has completed tests that are the best Earthly approximations of what the spacecraft will endure during launch and interplanetary cruise.\n",
      "Scraping Complete\n",
      "-----------------\n",
      "NASA Invites Public to Submit Names to Fly Aboard Next Mars Rover\n",
      "From now till Sept. 30, the public can submit names to be stenciled on chips that will fly on the Mars 2020 rover and receive a souvenir boarding pass.\n",
      "Scraping Complete\n",
      "-----------------\n",
      "NASA's MRO Completes 60,000 Trips Around Mars\n",
      "The orbiting spacecraft is also about to set a record for data relayed from the Martian surface.\n",
      "Scraping Complete\n",
      "-----------------\n",
      "Video: Fly over Mount Sharp on Mars\n",
      "A new animation shows the region NASA's Curiosity rover is currently exploring and where its team wants to go in the future.\n",
      "Scraping Complete\n",
      "-----------------\n",
      "Why This Martian Full Moon Looks Like Candy\n",
      "For the first time, NASA's Mars Odyssey orbiter has caught the Martian moon Phobos during a full moon phase. Each color in this new image represents a temperature range detected by Odyssey's infrared camera.\n",
      "Scraping Complete\n",
      "-----------------\n",
      "For InSight, Dust Cleanings Will Yield New Science\n",
      "Wind can be crucial to clearing dust from spacecraft solar panels on Mars. With InSight's meteorological sensors, scientists get their first measurements of wind and dust interacting \"live\" on the Martian surface.  \n",
      "Scraping Complete\n",
      "-----------------\n",
      "InSight Captures Sunrise and Sunset on Mars\n",
      "InSight joins the rest of NASA's Red Planet surface missions, all of which have photographed either the start or end of a Martian day.\n",
      "Scraping Complete\n",
      "-----------------\n",
      "NASA Social Media and Websites Win Webby Awards \n",
      "NASA's social media presence, the InSight mission social media accounts, NASA.gov and SolarSystem.NASA.gov will be honored at the 2019 Webby Awards - \"the Oscars of the Internet.\"\n",
      "Scraping Complete\n"
     ]
    }
   ],
   "source": [
    "for result in news_title:\n",
    "    title = result.find('div', class_='content_title').text\n",
    "    news_p = result.find('div', class_='article_teaser_body').text\n",
    "    \n",
    "    print('-----------------')\n",
    "    print(title)\n",
    "    print(news_p)\n",
    "    \n",
    "    \n",
    "    try:\n",
    "        browser.click_link_by_partial_text('next')\n",
    "          \n",
    "    except:\n",
    "        print(\"Scraping Complete\")\n",
    "\n",
    "# title = news_title.find('div', class_='content_title').text\n",
    "# news_p = news_title.find('div', class_='article_teaser_body').text\n",
    "\n",
    "# print('-----------------')\n",
    "# print(title)\n",
    "# print(news_p)"
   ]
  },
  {
   "cell_type": "code",
   "execution_count": 6,
   "metadata": {},
   "outputs": [],
   "source": [
    "# JPL Mars Space Images\n",
    "image_url = 'https://www.jpl.nasa.gov/spaceimages/?search=&category=Mars'\n",
    "\n",
    "browser.visit(image_url)"
   ]
  },
  {
   "cell_type": "code",
   "execution_count": 7,
   "metadata": {},
   "outputs": [],
   "source": [
    "# full image\n",
    "browser.click_link_by_partial_text('FULL IMAGE')"
   ]
  },
  {
   "cell_type": "code",
   "execution_count": 8,
   "metadata": {},
   "outputs": [],
   "source": [
    "response = requests.get(image_url)\n",
    "\n",
    "image_html = browser.html\n",
    "\n",
    "\n",
    "image_soup = BeautifulSoup(image_html, 'html.parser')"
   ]
  },
  {
   "cell_type": "code",
   "execution_count": 9,
   "metadata": {
    "scrolled": true
   },
   "outputs": [
    {
     "name": "stdout",
     "output_type": "stream",
     "text": [
      "https://www.jpl.nasa.gov/spaceimages/images/wallpaper/PIA23345-640x350.jpg\n"
     ]
    }
   ],
   "source": [
    "img_link = image_soup.find(\"img\", class_=\"thumb\")[\"src\"]\n",
    "image_path = f'https://www.jpl.nasa.gov{img_link}'\n",
    "print(image_path)"
   ]
  },
  {
   "cell_type": "code",
   "execution_count": 10,
   "metadata": {},
   "outputs": [],
   "source": [
    "# MARS WEATHER\n",
    "\n",
    "twitter_url = 'https://twitter.com/marswxreport?lang=en'\n",
    "browser.visit(twitter_url)\n",
    "weather_html = browser.html\n",
    "\n",
    "# Retrieve page with the requests module\n",
    "response = requests.get(twitter_url)\n",
    "\n",
    "# Create BeautifulSoup object; parse with 'lxml'\n",
    "soup = BeautifulSoup(weather_html, 'html.parser')"
   ]
  },
  {
   "cell_type": "code",
   "execution_count": 11,
   "metadata": {},
   "outputs": [
    {
     "name": "stdout",
     "output_type": "stream",
     "text": [
      "InSight sol 261 (2019-08-21) low -102.4ºC (-152.4ºF) high -26.6ºC (-15.8ºF)\n",
      "winds from the SSE at 4.9 m/s (11.0 mph) gusting to 16.0 m/s (35.8 mph)\n",
      "pressure at 7.70 hPapic.twitter.com/MhPPOHJg3m\n"
     ]
    }
   ],
   "source": [
    "mars = soup.find('div', class_='content') \n",
    "mars_weather = mars.find('p', class_='TweetTextSize TweetTextSize--normal js-tweet-text tweet-text').text\n",
    "print(mars_weather)"
   ]
  },
  {
   "cell_type": "code",
   "execution_count": 12,
   "metadata": {},
   "outputs": [
    {
     "data": {
      "text/html": [
       "<div>\n",
       "<style scoped>\n",
       "    .dataframe tbody tr th:only-of-type {\n",
       "        vertical-align: middle;\n",
       "    }\n",
       "\n",
       "    .dataframe tbody tr th {\n",
       "        vertical-align: top;\n",
       "    }\n",
       "\n",
       "    .dataframe thead th {\n",
       "        text-align: right;\n",
       "    }\n",
       "</style>\n",
       "<table border=\"1\" class=\"dataframe\">\n",
       "  <thead>\n",
       "    <tr style=\"text-align: right;\">\n",
       "      <th></th>\n",
       "      <th>Type</th>\n",
       "      <th>Value</th>\n",
       "    </tr>\n",
       "  </thead>\n",
       "  <tbody>\n",
       "    <tr>\n",
       "      <th>0</th>\n",
       "      <td>Equatorial Diameter:</td>\n",
       "      <td>6,792 km</td>\n",
       "    </tr>\n",
       "    <tr>\n",
       "      <th>1</th>\n",
       "      <td>Polar Diameter:</td>\n",
       "      <td>6,752 km</td>\n",
       "    </tr>\n",
       "    <tr>\n",
       "      <th>2</th>\n",
       "      <td>Mass:</td>\n",
       "      <td>6.39 × 10^23 kg (0.11 Earths)</td>\n",
       "    </tr>\n",
       "    <tr>\n",
       "      <th>3</th>\n",
       "      <td>Moons:</td>\n",
       "      <td>2 (Phobos &amp; Deimos)</td>\n",
       "    </tr>\n",
       "    <tr>\n",
       "      <th>4</th>\n",
       "      <td>Orbit Distance:</td>\n",
       "      <td>227,943,824 km (1.38 AU)</td>\n",
       "    </tr>\n",
       "    <tr>\n",
       "      <th>5</th>\n",
       "      <td>Orbit Period:</td>\n",
       "      <td>687 days (1.9 years)</td>\n",
       "    </tr>\n",
       "    <tr>\n",
       "      <th>6</th>\n",
       "      <td>Surface Temperature:</td>\n",
       "      <td>-87 to -5 °C</td>\n",
       "    </tr>\n",
       "    <tr>\n",
       "      <th>7</th>\n",
       "      <td>First Record:</td>\n",
       "      <td>2nd millennium BC</td>\n",
       "    </tr>\n",
       "    <tr>\n",
       "      <th>8</th>\n",
       "      <td>Recorded By:</td>\n",
       "      <td>Egyptian astronomers</td>\n",
       "    </tr>\n",
       "  </tbody>\n",
       "</table>\n",
       "</div>"
      ],
      "text/plain": [
       "                   Type                          Value\n",
       "0  Equatorial Diameter:                       6,792 km\n",
       "1       Polar Diameter:                       6,752 km\n",
       "2                 Mass:  6.39 × 10^23 kg (0.11 Earths)\n",
       "3                Moons:            2 (Phobos & Deimos)\n",
       "4       Orbit Distance:       227,943,824 km (1.38 AU)\n",
       "5         Orbit Period:           687 days (1.9 years)\n",
       "6  Surface Temperature:                   -87 to -5 °C\n",
       "7         First Record:              2nd millennium BC\n",
       "8          Recorded By:           Egyptian astronomers"
      ]
     },
     "execution_count": 12,
     "metadata": {},
     "output_type": "execute_result"
    }
   ],
   "source": [
    "###  Mars Facts\n",
    "\n",
    "# Visit Mars facts url \n",
    "mars_url = 'https://space-facts.com/mars/'\n",
    "\n",
    "# Extracting Data\n",
    "tables = pd.read_html(mars_url)\n",
    "mars_df = tables[1]\n",
    "\n",
    "# Dataframe\n",
    "mars_df.columns = ['Type', 'Value']\n",
    "mars_df\n"
   ]
  },
  {
   "cell_type": "code",
   "execution_count": 13,
   "metadata": {},
   "outputs": [],
   "source": [
    "#Mars Hemispheres\n",
    "\n",
    "astro_url = 'https://astrogeology.usgs.gov/search/results?q=hemisphere+enhanced&k1=target&v1=Mars'\n",
    "browser.visit(astro_url)"
   ]
  },
  {
   "cell_type": "code",
   "execution_count": 14,
   "metadata": {},
   "outputs": [],
   "source": [
    "\n",
    "astro_html = browser.html\n",
    "hemi_soup = BeautifulSoup(astro_html, 'html.parser')\n",
    "hemi_links= hemi_soup.find_all('div', class_='item')\n",
    "hemispheres_url = 'https://astrogeology.usgs.gov'"
   ]
  },
  {
   "cell_type": "code",
   "execution_count": 15,
   "metadata": {},
   "outputs": [
    {
     "name": "stdout",
     "output_type": "stream",
     "text": [
      "-----------------\n",
      "{'title': 'Cerberus Hemisphere Enhanced', 'img_url': 'https://astrogeology.usgs.gov/cache/images/dfaf3849e74bf973b59eb50dab52b583_cerberus_enhanced.tif_thumb.png'}\n",
      "-----------------\n",
      "{'title': 'Schiaparelli Hemisphere Enhanced', 'img_url': 'https://astrogeology.usgs.gov/cache/images/7677c0a006b83871b5a2f66985ab5857_schiaparelli_enhanced.tif_thumb.png'}\n",
      "-----------------\n",
      "{'title': 'Syrtis Major Hemisphere Enhanced', 'img_url': 'https://astrogeology.usgs.gov/cache/images/aae41197e40d6d4f3ea557f8cfe51d15_syrtis_major_enhanced.tif_thumb.png'}\n",
      "-----------------\n",
      "{'title': 'Valles Marineris Hemisphere Enhanced', 'img_url': 'https://astrogeology.usgs.gov/cache/images/04085d99ec3713883a9a57f42be9c725_valles_marineris_enhanced.tif_thumb.png'}\n"
     ]
    }
   ],
   "source": [
    "for result in hemi_links:\n",
    "    title = result.find(\"h3\").text\n",
    "    img_url= result.find(\"img\", class_=\"thumb\")[\"src\"]\n",
    "\n",
    "    \n",
    "    \n",
    "    \n",
    "    \n",
    "    print('-----------------')\n",
    "    print({\"title\": title, \"img_url\": hemispheres_url + img_url})\n",
    "    \n",
    "    \n"
   ]
  }
 ],
 "metadata": {
  "kernelspec": {
   "display_name": "Python 3",
   "language": "python",
   "name": "python3"
  },
  "language_info": {
   "codemirror_mode": {
    "name": "ipython",
    "version": 3
   },
   "file_extension": ".py",
   "mimetype": "text/x-python",
   "name": "python",
   "nbconvert_exporter": "python",
   "pygments_lexer": "ipython3",
   "version": "3.7.3"
  }
 },
 "nbformat": 4,
 "nbformat_minor": 2
}
